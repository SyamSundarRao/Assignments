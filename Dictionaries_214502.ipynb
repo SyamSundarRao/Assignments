{
  "nbformat": 4,
  "nbformat_minor": 0,
  "metadata": {
    "colab": {
      "name": "Dictionaries-214502",
      "provenance": []
    },
    "kernelspec": {
      "name": "python3",
      "display_name": "Python 3"
    },
    "language_info": {
      "name": "python"
    }
  },
  "cells": [
    {
      "cell_type": "code",
      "execution_count": 1,
      "metadata": {
        "colab": {
          "base_uri": "https://localhost:8080/"
        },
        "id": "WA_NbH4S9X2X",
        "outputId": "070e61f7-3c3e-41e9-9b34-0284226b2083"
      },
      "outputs": [
        {
          "output_type": "execute_result",
          "data": {
            "text/plain": [
              "4"
            ]
          },
          "metadata": {},
          "execution_count": 1
        }
      ],
      "source": [
        "my_dict={1:\"syam\",2:\"manav\",3:\"vishal\"}\n",
        "my_dict.keys()\n",
        "my_dict.values()\n",
        "my_dict.get(3)\n",
        "my_dict[4]=\"karthik\"\n",
        "my_dict\n",
        "my_dict[2]=\"geetam\"\n",
        "my_dict\n",
        "len(my_dict)"
      ]
    },
    {
      "cell_type": "code",
      "source": [
        "my_dict={1:\"syam\",2:\"manav\",3:\"vishal\"}\n",
        "my_dict.keys()"
      ],
      "metadata": {
        "colab": {
          "base_uri": "https://localhost:8080/"
        },
        "id": "-Jt6gpb-_5wd",
        "outputId": "e6b81797-0858-4a21-92e2-e64eeacb5dc8"
      },
      "execution_count": 2,
      "outputs": [
        {
          "output_type": "execute_result",
          "data": {
            "text/plain": [
              "dict_keys([1, 2, 3])"
            ]
          },
          "metadata": {},
          "execution_count": 2
        }
      ]
    },
    {
      "cell_type": "code",
      "source": [
        "my_dict={1:\"syam\",2:\"manav\",3:\"vishal\"}\n",
        "my_dict.values()"
      ],
      "metadata": {
        "colab": {
          "base_uri": "https://localhost:8080/"
        },
        "id": "tsZy9r5aAQm-",
        "outputId": "e7244107-7aee-42a6-8f03-d298865d6e08"
      },
      "execution_count": null,
      "outputs": [
        {
          "output_type": "execute_result",
          "data": {
            "text/plain": [
              "dict_values(['syam', 'manav', 'vishal'])"
            ]
          },
          "metadata": {},
          "execution_count": 13
        }
      ]
    },
    {
      "cell_type": "code",
      "source": [
        "tup=(1,2,3,4,[1,2,3],6)\n",
        "list(enumerate(tup))"
      ],
      "metadata": {
        "colab": {
          "base_uri": "https://localhost:8080/"
        },
        "id": "myLgFZQhJN01",
        "outputId": "317ca805-4d8d-4a05-cd44-6322b2e09c18"
      },
      "execution_count": null,
      "outputs": [
        {
          "output_type": "execute_result",
          "data": {
            "text/plain": [
              "[(0, 1), (1, 2), (2, 3), (3, 4), (4, [1, 2, 3]), (5, 6)]"
            ]
          },
          "metadata": {},
          "execution_count": 16
        }
      ]
    },
    {
      "cell_type": "code",
      "source": [
        "t = ('S','A','I','R','A','M')\n",
        "s = \"\"\n",
        "for i in t[:3]:\n",
        "    s += i\n",
        "s += \" \"\n",
        "for i in t[3:]:\n",
        "    s += i\n",
        "print(s)"
      ],
      "metadata": {
        "colab": {
          "base_uri": "https://localhost:8080/"
        },
        "id": "13V9y5hAKS42",
        "outputId": "a0d24f69-dd3a-48b6-a384-84e81fd963d4"
      },
      "execution_count": null,
      "outputs": [
        {
          "output_type": "stream",
          "name": "stdout",
          "text": [
            "SAI RAM\n"
          ]
        }
      ]
    },
    {
      "cell_type": "code",
      "source": [
        "t = ('S','A','I','R','A','M')\n",
        "s = \"\"\n",
        "for i in t[:3]:\n",
        "    s += i\n",
        "s += \" \"\n",
        "print(s)"
      ],
      "metadata": {
        "id": "RPIwvJr_Lwus",
        "outputId": "e2141ccc-ce70-41fe-b012-610eedd1bce7",
        "colab": {
          "base_uri": "https://localhost:8080/"
        }
      },
      "execution_count": null,
      "outputs": [
        {
          "output_type": "stream",
          "name": "stdout",
          "text": [
            "SAI \n"
          ]
        }
      ]
    }
  ]
}