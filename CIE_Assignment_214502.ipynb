{
  "nbformat": 4,
  "nbformat_minor": 0,
  "metadata": {
    "colab": {
      "name": "CIE-Assignment -214502",
      "provenance": [],
      "collapsed_sections": []
    },
    "kernelspec": {
      "name": "python3",
      "display_name": "Python 3"
    },
    "language_info": {
      "name": "python"
    }
  },
  "cells": [
    {
      "cell_type": "code",
      "execution_count": null,
      "metadata": {
        "colab": {
          "base_uri": "https://localhost:8080/"
        },
        "id": "5staPXwZXGQx",
        "outputId": "1c0c664d-9b56-45b7-92f2-20462bd9be90"
      },
      "outputs": [
        {
          "output_type": "stream",
          "name": "stdout",
          "text": [
            "Enter your name :syam\n",
            "Hello syam\n"
          ]
        }
      ],
      "source": [
        "# Exercise -2 : Write a programme that uses input to prompt\n",
        "name =(input (\"Enter your name :\") )\n",
        "print (\"Hello\", name) "
      ]
    },
    {
      "cell_type": "code",
      "source": [
        "#Exercise- 3: Write a program to prompt the user for hours and rate per hour to compute gross pay.Enter Hours: 35 Enter Rate: 2.75 Pay: 96.25\n",
        "hours = float(input(\"Enter hours=\"))\n",
        "rate = float (input(\"Enter rate=\"))\n",
        "pay = hours * rate\n",
        "print ('pay=',pay)"
      ],
      "metadata": {
        "colab": {
          "base_uri": "https://localhost:8080/"
        },
        "id": "SvjD1CbmhYci",
        "outputId": "7bdde4a7-3e55-4c37-9883-fe449a08bf3c"
      },
      "execution_count": null,
      "outputs": [
        {
          "output_type": "stream",
          "name": "stdout",
          "text": [
            "Enter hours=65\n",
            "Enter rate=4.5\n",
            "pay= 292.5\n"
          ]
        }
      ]
    },
    {
      "cell_type": "code",
      "source": [
        "#Exercise- 4: Assume that we execute the following assignment statements:\n",
        "#width = 17\n",
        "#height = 12.0\n",
        "width = float (input (\"Enter width =\"))\n",
        "height = float (input(\"Enter height\"))\n",
        "\n",
        "\n",
        "print ('value is :', width //2, 'and type is :',type (width //2))\n",
        "print ('value is :', width /2.0, 'and type is :',type (width /2.0))\n",
        "print ('value is :', height /3, 'and type is :',type (height/3))\n",
        "print ('value is :', 1 + 2 * 5, 'and type is :',type ( 1 + 2 * 5)) \n",
        "\n"
      ],
      "metadata": {
        "colab": {
          "base_uri": "https://localhost:8080/"
        },
        "id": "22x-3Oc_jvNk",
        "outputId": "c6a2abed-8b45-4dcb-c543-7a6d05a2202e"
      },
      "execution_count": null,
      "outputs": [
        {
          "output_type": "stream",
          "name": "stdout",
          "text": [
            "Enter width =17\n",
            "Enter height12.0\n",
            "value is : 8.0 and type is : <class 'float'>\n",
            "value is : 8.5 and type is : <class 'float'>\n",
            "value is : 4.0 and type is : <class 'float'>\n",
            "value is : 11 and type is : <class 'int'>\n"
          ]
        }
      ]
    },
    {
      "cell_type": "code",
      "source": [
        "#Exercise- 5:or a Celsius temperature, convert the temperature to Fahrenheit, and print out the Result Write a program which prompts the user f\n",
        "Temperature = float (input(\"Enter the temperature in celcius=\"))\n",
        "farenheit = Temperature*9/5+32\n",
        "print(\"temperature in farenheit is\",farenheit)\n"
      ],
      "metadata": {
        "id": "RVmHKqBtykhI",
        "colab": {
          "base_uri": "https://localhost:8080/"
        },
        "outputId": "236d121e-49e4-4cc9-f3f6-2783f65dce47"
      },
      "execution_count": null,
      "outputs": [
        {
          "output_type": "stream",
          "name": "stdout",
          "text": [
            "Enter the temperature in celcius=98\n",
            "temperature in farenheit is 208.4\n"
          ]
        }
      ]
    },
    {
      "cell_type": "code",
      "source": [
        "#Exercise -6: Rewrite your pay computation to give the employee 1.5times the hourly rate for hours worked above 40 hours.\n",
        "#Enter Hours: 45\n",
        "#Enter Rate: 10\n",
        "#Pay: 475.0\n",
        "\n",
        "hours = float (input(\"Enter hours=\"))\n",
        "rate = float (input(\"Enter rate\"))\n",
        "\n",
        "if hours <=40:\n",
        "  pay = hours*rate\n",
        "else:\n",
        "  pay = ((hours-40)*(1.5*rate))+(40*rate)\n",
        "  print(\"pay=\",pay)\n",
        "\n",
        "\n"
      ],
      "metadata": {
        "colab": {
          "base_uri": "https://localhost:8080/"
        },
        "id": "5TnXMQ9V0M71",
        "outputId": "d1f20059-5aba-41b3-8d9c-a9289878bfca"
      },
      "execution_count": null,
      "outputs": [
        {
          "output_type": "stream",
          "name": "stdout",
          "text": [
            "Enter hours=45\n",
            "Enter rate10\n",
            "pay= 475.0\n"
          ]
        }
      ]
    },
    {
      "cell_type": "code",
      "source": [
        "# checkout if a year is leap year or not\n",
        "year = int (input('Enter the year='))\n",
        "if(year%400==0):\n",
        "  print (year,\"is a leap year\")\n",
        "elif (year%4==0 and year%100!=0):\n",
        "     print (year,'is a leap year')\n",
        "else :\n",
        "     print (year ,'is not a leap year')\n"
      ],
      "metadata": {
        "colab": {
          "base_uri": "https://localhost:8080/"
        },
        "id": "jc2iipB-l0HU",
        "outputId": "fcef291f-9962-452f-b349-63370d120801"
      },
      "execution_count": null,
      "outputs": [
        {
          "output_type": "stream",
          "name": "stdout",
          "text": [
            "Enter the year=2022\n",
            "2022 is not a leap year\n"
          ]
        }
      ]
    },
    {
      "cell_type": "code",
      "source": [
        "def fred():\n",
        "  print(\"Zap\")\n",
        "def jane():\n",
        "  print(\"ABC\")\n",
        "jane()\n",
        "fred()\n",
        "jane()"
      ],
      "metadata": {
        "colab": {
          "base_uri": "https://localhost:8080/"
        },
        "id": "r0ImK3wf27sL",
        "outputId": "24a4a94f-570a-4dc4-cefc-1dcd094159cd"
      },
      "execution_count": null,
      "outputs": [
        {
          "output_type": "stream",
          "name": "stdout",
          "text": [
            "ABC\n",
            "Zap\n",
            "ABC\n"
          ]
        }
      ]
    },
    {
      "cell_type": "code",
      "source": [
        "def computepay(Hours,rate):\n",
        "  if(Hours>40):\n",
        "    pay=(Hours-40)*1.5*rate+(40*rate)\n",
        "  else:\n",
        "    pay=Hours*rate  \n",
        "  return pay\n",
        "\n",
        "Hours = float(input(\"Enter Hour\\n\"))\n",
        "rate = float(input(\"Enter rate\\n\"))\n",
        "pay = computepay(Hours , rate)  \n",
        "print( 'pay :',pay)"
      ],
      "metadata": {
        "colab": {
          "base_uri": "https://localhost:8080/"
        },
        "id": "a1LRKhrL4jp4",
        "outputId": "c4d3190a-ab7e-4d13-a14f-cb6477586d46"
      },
      "execution_count": null,
      "outputs": [
        {
          "output_type": "stream",
          "name": "stdout",
          "text": [
            "Enter Hour\n",
            "45\n",
            "Enter rate\n",
            "10\n",
            "pay : 475.0\n"
          ]
        }
      ]
    },
    {
      "cell_type": "code",
      "source": [
        "def computegrade(score):\n",
        "  if(score<0.0 or score>1.0) :\n",
        "    return(\"Score is out of range!!\")\n",
        "  elif(score>=0.9):\n",
        "    return(\"A\")\n",
        "  elif(score>=0.8):\n",
        "    return(\"B\")\n",
        "  elif(score>=0.7):\n",
        "    return(\"C\")\n",
        "  elif(score>=0.6):\n",
        "    return(\"D\")      \n",
        "  else:\n",
        "    return(\"F\")\n",
        "try:\n",
        "  score=float(input(\"Enter your score\\n\"))\n",
        "  print(computegrade(score))\n",
        "except Exception :\n",
        "  print('Enter a number!!!!!!!!!!!!')"
      ],
      "metadata": {
        "colab": {
          "base_uri": "https://localhost:8080/"
        },
        "id": "v4zCFF_-8y00",
        "outputId": "8d207c29-f818-4ba9-b08b-1fef877d7825"
      },
      "execution_count": null,
      "outputs": [
        {
          "output_type": "stream",
          "name": "stdout",
          "text": [
            "Enter your score\n",
            "34\n",
            "Score is out of range!!\n"
          ]
        }
      ]
    },
    {
      "cell_type": "code",
      "source": [
        "\n",
        "count=0\n",
        "total=0\n",
        "while True :\n",
        "  value=input('Enter the number')\n",
        "  if (value=='done'):\n",
        "    break\n",
        "  try:\n",
        "    value1=float(value)\n",
        "  except:\n",
        "    print('Invalid input')\n",
        "  total=total+value1\n",
        "  count=count+1\n",
        "print(total,count,total/count)"
      ],
      "metadata": {
        "colab": {
          "base_uri": "https://localhost:8080/"
        },
        "id": "Vfqz0bhC_R3k",
        "outputId": "67e7b362-021a-4ff0-adf7-64e0217eb76b"
      },
      "execution_count": null,
      "outputs": [
        {
          "output_type": "stream",
          "name": "stdout",
          "text": [
            "Enter the number1\n",
            "Enter the numberdone\n",
            "1.0 1 1.0\n"
          ]
        }
      ]
    },
    {
      "cell_type": "code",
      "source": [
        "count=0\n",
        "list=[]\n",
        "while True :\n",
        "  element=input('Enter the number\\n')\n",
        "  if (element=='done'):\n",
        "    break\n",
        "  try:\n",
        "    value1=float(element)\n",
        "    list.append(value1)\n",
        "    \n",
        "  except:\n",
        "    print('Invalid input')\n",
        "\n",
        "  if count==0 :\n",
        "    min_val=value1\n",
        "    max_val=value1\n",
        "  elif value1<min_val:\n",
        "    min_val=value1\n",
        "  elif value1>max_val:\n",
        "    max_val=value1\n",
        "    count=count+1\n",
        "print('The list of ements are :',list)\n",
        "print(min_val , max_val)"
      ],
      "metadata": {
        "colab": {
          "base_uri": "https://localhost:8080/"
        },
        "id": "tKIOiXIGFUVZ",
        "outputId": "48307800-4c9e-42f8-89a8-de5e8c91e5bc"
      },
      "execution_count": null,
      "outputs": [
        {
          "output_type": "stream",
          "name": "stdout",
          "text": [
            "Enter the number\n",
            "76\n",
            "Enter the number\n",
            "87\n",
            "Enter the number\n",
            "98\n",
            "Enter the number\n",
            "90\n",
            "Enter the number\n",
            "654\n",
            "Enter the number\n",
            "8765\n",
            "Enter the number\n",
            "1234\n",
            "Enter the number\n",
            "done\n",
            "The list of ements are : [76.0, 87.0, 98.0, 90.0, 654.0, 8765.0, 1234.0]\n",
            "1234.0 1234.0\n"
          ]
        }
      ]
    }
  ]
}