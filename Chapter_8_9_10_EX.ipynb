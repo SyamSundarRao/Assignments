{
  "nbformat": 4,
  "nbformat_minor": 0,
  "metadata": {
    "colab": {
      "name": "Chapter 8-9-10-EX",
      "provenance": [],
      "collapsed_sections": [],
      "authorship_tag": "ABX9TyM/yr/zM+If0bkXaP7smepb",
      "include_colab_link": true
    },
    "kernelspec": {
      "name": "python3",
      "display_name": "Python 3"
    },
    "language_info": {
      "name": "python"
    }
  },
  "cells": [
    {
      "cell_type": "markdown",
      "metadata": {
        "id": "view-in-github",
        "colab_type": "text"
      },
      "source": [
        "<a href=\"https://colab.research.google.com/github/SyamSundarRao/Assignments/blob/main/Chapter_8_9_10_EX.ipynb\" target=\"_parent\"><img src=\"https://colab.research.google.com/assets/colab-badge.svg\" alt=\"Open In Colab\"/></a>"
      ]
    },
    {
      "cell_type": "markdown",
      "source": [
        "Exercise 8-9-10"
      ],
      "metadata": {
        "id": "Z7OhO-xGRKT5"
      }
    },
    {
      "cell_type": "code",
      "execution_count": 2,
      "metadata": {
        "colab": {
          "base_uri": "https://localhost:8080/"
        },
        "id": "Gu5S9mXaLlRA",
        "outputId": "45b6f197-86fc-40af-9b6d-ad383d2fd951"
      },
      "outputs": [
        {
          "output_type": "stream",
          "name": "stdout",
          "text": [
            "Mounted at /content/drive\n",
            "['Arise', 'But', 'It', 'Juliet', 'Who', 'already', 'and', 'breaks\\n', 'east', 'envious', 'fair', 'grief', 'is', 'kill', 'light', 'moon\\n', 'pale', 'sick', 'soft', 'sun', 'sun\\n', 'the', 'through', 'what', 'window', 'with', 'yonder']\n"
          ]
        }
      ],
      "source": [
        "words =[]\n",
        "from google.colab import drive\n",
        "drive.mount('/content/drive', force_remount=1) \n",
        "fhand = open('romeo.txt.txt' , 'r')\n",
        "for line in  fhand :\n",
        " for word in line.split(' '):\n",
        "    if word not in words :\n",
        "        words.append(word)\n",
        "print(sorted(words))\n",
        "#not in order"
      ]
    },
    {
      "cell_type": "code",
      "source": [
        "my_nums = []\n",
        "\n",
        "while True:\n",
        "  a = input(\"Enter a number:\")\n",
        "  if a == 'done' :\n",
        "    break\n",
        "  try:\n",
        "    val = float(a)\n",
        "  except:\n",
        "    print(\"invalid input\")\n",
        "    continue\n",
        "  my_nums.append(val)\n",
        " \n",
        "\n",
        "print(min(my_nums) )\n",
        "print(max(my_nums))"
      ],
      "metadata": {
        "colab": {
          "base_uri": "https://localhost:8080/"
        },
        "id": "MJkBvPA1MIFT",
        "outputId": "dd75455e-f161-46d5-f622-4957233767ca"
      },
      "execution_count": 4,
      "outputs": [
        {
          "output_type": "stream",
          "name": "stdout",
          "text": [
            "Enter a number:657\n",
            "Enter a number:543\n",
            "Enter a number:5467\n",
            "Enter a number:6587\n",
            "Enter a number:Done\n",
            "invalid input\n",
            "Enter a number:done\n",
            "543.0\n",
            "6587.0\n"
          ]
        }
      ]
    },
    {
      "cell_type": "code",
      "source": [
        "from google.colab import drive\n",
        "drive.mount('/content/drive', force_remount=1)\n",
        "data = input(\"Enter the name of the file you want to be processed\")\n",
        "email_data = open(data).read()\n",
        "days = dict()\n",
        "words = email_data.split()\n",
        "\n",
        "i = 0\n",
        "length = len(words)\n",
        "\n",
        "while i < length:\n",
        "    if words[i] == \"From\":\n",
        "        days[words[i+2]] = days.get(words[i+2],0) + 1\n",
        "    i = i + 1\n",
        "\n",
        "print(days)\n",
        "#howmNY mails on particular day"
      ],
      "metadata": {
        "colab": {
          "base_uri": "https://localhost:8080/"
        },
        "id": "oEkwxD_RMNck",
        "outputId": "ec8a548d-dd47-4a0b-9515-0ba75add27d3"
      },
      "execution_count": 5,
      "outputs": [
        {
          "output_type": "stream",
          "name": "stdout",
          "text": [
            "Mounted at /content/drive\n",
            "Enter the name of the file you want to be processedromeo.txt.txt\n",
            "{}\n"
          ]
        }
      ]
    },
    {
      "cell_type": "code",
      "source": [
        "from google.colab import drive\n",
        "drive.mount('/content/drive', force_remount=1)\n",
        "data = input(\"Enter the name of the file you want to be processed\")\n",
        "email_data = open(data).read()\n",
        "sender = dict()\n",
        "#days = dict()\n",
        "words = email_data.split()\n",
        "\n",
        "i = 0\n",
        "length = len(words)\n",
        "\n",
        "while i < length:\n",
        "    if words[i] == \"From\":\n",
        "        #days[words[i+2]] = days.get(words[i+2],0) + 1\n",
        "        sender[words[i+1]] = sender.get(words[i+1],0) + 1\n",
        "    i = i + 1\n",
        "\n",
        "#print(days)\n",
        "print(sender)"
      ],
      "metadata": {
        "colab": {
          "base_uri": "https://localhost:8080/"
        },
        "id": "6z3EXHyDMVkl",
        "outputId": "fb94907e-c922-41cb-e7d5-52b7e0839bbb"
      },
      "execution_count": 6,
      "outputs": [
        {
          "output_type": "stream",
          "name": "stdout",
          "text": [
            "Mounted at /content/drive\n",
            "Enter the name of the file you want to be processedmbox-short.txt\n",
            "{'stephen.marquard@uct.ac.za': 2, 'louis@media.berkeley.edu': 3, 'zqian@umich.edu': 4, 'rjlowe@iupui.edu': 2, 'cwen@iupui.edu': 5, 'gsilver@umich.edu': 3, 'wagnermr@iupui.edu': 1, 'antranig@caret.cam.ac.uk': 1, 'gopal.ramasammycook@gmail.com': 1, 'david.horwitz@uct.ac.za': 4, 'ray@media.berkeley.edu': 1}\n"
          ]
        }
      ]
    },
    {
      "cell_type": "code",
      "source": [
        "from google.colab import drive\n",
        "drive.mount('/content/drive', force_remount=1)\n",
        "data = input(\"Enter the name of the file you want to be processed\")\n",
        "email_data = open(data).read()\n",
        "domains = dict()\n",
        "\n",
        "words = email_data.split()\n",
        "\n",
        "i = 0\n",
        "length = len(words)\n",
        "\n",
        "while i < length:\n",
        "    if words[i] == \"From\":\n",
        "        emails=words[i+1]\n",
        "        domain=emails.split('@')\n",
        "        domains[domain[1]]=domains.get(domain[1],0)+1\n",
        "    i = i + 1\n",
        "\n",
        "\n",
        "print(domains)"
      ],
      "metadata": {
        "colab": {
          "base_uri": "https://localhost:8080/"
        },
        "id": "TRFnY85nMfvu",
        "outputId": "fd4eaf2e-fa1b-4b84-ca64-23fdc5f5cc36"
      },
      "execution_count": 8,
      "outputs": [
        {
          "output_type": "stream",
          "name": "stdout",
          "text": [
            "Mounted at /content/drive\n",
            "Enter the name of the file you want to be processedromeo.txt.txt\n",
            "{}\n"
          ]
        }
      ]
    },
    {
      "cell_type": "markdown",
      "source": [
        ""
      ],
      "metadata": {
        "id": "HuAVxS6mQ1oU"
      }
    },
    {
      "cell_type": "code",
      "source": [
        "from google.colab import drive\n",
        "drive.mount('/content/drive', force_remount=1)\n",
        "data = input(\"Enter the name of the file you want to be processed\")\n",
        "email_data = open(data).read()\n",
        "sender = dict()\n",
        "#days = dict()\n",
        "words = email_data.split()\n",
        "\n",
        "i = 0\n",
        "length = len(words)\n",
        "\n",
        "while i < length:\n",
        "    if words[i] == \"From\":\n",
        "        #days[words[i+2]] = days.get(words[i+2],0) + 1\n",
        "        sender[words[i+1]] = sender.get(words[i+1],0) + 1\n",
        "    i=i+1\n",
        "#print(sender)    \n",
        "max_address = None\n",
        "max_emails = 0\n",
        "for k in sender:\n",
        "    if sender[k] > max_emails:\n",
        "      max_address = k\n",
        "      max_emails = sender[k]\n",
        "\n",
        "#print(days)\n",
        "print(max_address,max_emails)"
      ],
      "metadata": {
        "colab": {
          "base_uri": "https://localhost:8080/"
        },
        "id": "R30KocmvMm-g",
        "outputId": "6a95186d-6e46-4193-ad15-4ec1570ab33b"
      },
      "execution_count": 9,
      "outputs": [
        {
          "output_type": "stream",
          "name": "stdout",
          "text": [
            "Mounted at /content/drive\n",
            "Enter the name of the file you want to be processedmbox-short.txt\n",
            "cwen@iupui.edu 5\n"
          ]
        }
      ]
    },
    {
      "cell_type": "markdown",
      "source": [
        "TUPLELS"
      ],
      "metadata": {
        "id": "lnf0mgRIOCk_"
      }
    },
    {
      "cell_type": "code",
      "source": [
        "data = input(\"Enter the name of the file you want to be processed\")\n",
        "email_data = open(data).read()\n",
        "sender = dict()\n",
        "#days = dict()\n",
        "words = email_data.split()\n",
        "\n",
        "i = 0\n",
        "length = len(words)\n",
        "\n",
        "while i < length:\n",
        "    if words[i] == \"From\":\n",
        "        #days[words[i+2]] = days.get(words[i+2],0) + 1\n",
        "        sender[words[i+1]] = sender.get(words[i+1],0) + 1\n",
        "    i = i + 1\n",
        "\n",
        "#print(days)\n",
        "#print(sender)\n",
        "\n",
        "lst=[]\n",
        "\n",
        "for key,value in sender.items():#creates a list of dictnary;s (key,value) pair in tuple pairs\n",
        "  lst.append((value,key))\n",
        "  \n",
        "lst.sort(reverse=True)\n",
        "print(lst[0])"
      ],
      "metadata": {
        "colab": {
          "base_uri": "https://localhost:8080/"
        },
        "id": "8I3shizXNIIY",
        "outputId": "3ddccf63-22c7-4681-ec9b-8b37ecb3daa7"
      },
      "execution_count": 12,
      "outputs": [
        {
          "output_type": "stream",
          "name": "stdout",
          "text": [
            "Enter the name of the file you want to be processedmbox-short.txt\n",
            "(5, 'cwen@iupui.edu')\n"
          ]
        }
      ]
    },
    {
      "cell_type": "code",
      "source": [
        "data = input(\"Enter the name of the file you want to be processed\")\n",
        "email_data = open(data).read()\n",
        "hours_of_day = dict()\n",
        "#days = dict()\n",
        "words = email_data.split()\n",
        "i = 0\n",
        "length = len(words)\n",
        "\n",
        "while i < length:\n",
        "    if words[i] == \"From\":\n",
        "        #days[words[i+2]] = days.get(words[i+2],0) + 1\n",
        "        #sender[words[i+1]] = sender.get(words[i+1],0) + 1\n",
        "        time=words[i+5]\n",
        "        time = time.split(\":\")\n",
        "        hours_of_day[time[0]] = hours_of_day.get(time[0],0) + 1\n",
        "    i = i + 1\n",
        "#print(hours_of_day)\n",
        "lst=[]\n",
        "\n",
        "for key,value in hours_of_day.items():#creates a list of dictnary;s (key,value) pair in tuple pairs\n",
        "  lst.append((key,value))\n",
        "  \n",
        "lst.sort()\n",
        "#print(lst)\n",
        "for t in lst :\n",
        "  print(t[0],t[1])"
      ],
      "metadata": {
        "colab": {
          "base_uri": "https://localhost:8080/"
        },
        "id": "sv5gSUjDNNV8",
        "outputId": "878b9495-ef21-4f50-86ac-714a66b44ed7"
      },
      "execution_count": 13,
      "outputs": [
        {
          "name": "stdout",
          "output_type": "stream",
          "text": [
            "Enter the name of the file you want to be processedromeo.txt.txt\n"
          ]
        }
      ]
    }
  ]
}