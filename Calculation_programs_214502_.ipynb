{
  "nbformat": 4,
  "nbformat_minor": 0,
  "metadata": {
    "colab": {
      "name": " Calculation_programs_214502.",
      "provenance": [],
      "collapsed_sections": []
    },
    "kernelspec": {
      "name": "python3",
      "display_name": "Python 3"
    },
    "language_info": {
      "name": "python"
    }
  },
  "cells": [
    {
      "cell_type": "code",
      "source": [
        "# The calculates the rate of interest\n",
        "# a = p + si \n",
        "# a = p + (prt/100)\n",
        "# a - p = prt/100\n",
        "p = float(input('P = '))\n",
        "a = float(input('A = ')) \n",
        "t = float(input('T = ')) \n",
        "r = ((a - p) * 100) / (p * t)\n",
        "print(r)"
      ],
      "metadata": {
        "colab": {
          "base_uri": "https://localhost:8080/"
        },
        "id": "uoEsl4xB-LuU",
        "outputId": "bdbcaef2-ad8b-4fa5-8389-5302bf475701"
      },
      "execution_count": 1,
      "outputs": [
        {
          "output_type": "stream",
          "name": "stdout",
          "text": [
            "P = 100\n",
            "A = 54\n",
            "T = 23\n",
            "-2.0\n"
          ]
        }
      ]
    },
    {
      "cell_type": "code",
      "source": [
        "\n",
        "\n",
        "'l' + \"'\" + 'argent'"
      ],
      "metadata": {
        "colab": {
          "base_uri": "https://localhost:8080/",
          "height": 35
        },
        "id": "ievilCTaMtip",
        "outputId": "b4e593be-0a53-4fb2-83ad-556c174fd50c"
      },
      "execution_count": 2,
      "outputs": [
        {
          "output_type": "execute_result",
          "data": {
            "text/plain": [
              "\"l'argent\""
            ],
            "application/vnd.google.colaboratory.intrinsic+json": {
              "type": "string"
            }
          },
          "metadata": {},
          "execution_count": 2
        }
      ]
    },
    {
      "cell_type": "code",
      "source": [
        "r = float(input('R = ')) \n",
        "t1 = float(input('Larger Time = ')) \n",
        "t2 = float(input('Shorter Time = ')) \n",
        "dif = float(input('Difference between interests : '))\n",
        "\n",
        "si1 = (p*r*t1)/100\n",
        "si2 = (p*r*t2)/100\n",
        "# calculation of the formula\n",
        "#dif = si1 - si2\n",
        "#dif = (p*r*t1)/100 - (p*r*t2)/100\n",
        "#dif = pr/100 (t1 - t2)\n",
        "p = (dif / r * (t1 - t2)) * 100\n",
        "print(p)\n",
        "\n"
      ],
      "metadata": {
        "colab": {
          "base_uri": "https://localhost:8080/"
        },
        "id": "tw8tqldo_9Qt",
        "outputId": "63ce0c6d-e0fe-460b-8ba2-fe76ed743e21"
      },
      "execution_count": 3,
      "outputs": [
        {
          "output_type": "stream",
          "name": "stdout",
          "text": [
            "R = 68\n",
            "Larger Time = 23\n",
            "Shorter Time = 43\n",
            "Difference between interests : 12\n",
            "-352.9411764705883\n"
          ]
        }
      ]
    },
    {
      "cell_type": "code",
      "source": [
        "# The first pair of rate and time\n",
        "r1 = float(input('R1 = '))\n",
        "t1 = float(input('T1 = '))\n",
        "\n",
        "# The second pair of rate and time\n",
        "\n",
        "r2 = float(input('R2 = '))  \n",
        "t2 = float(input('T2 = ')) \n",
        "dif = float(input('Differenceb between interests '))\n",
        "\n",
        "#si = prt/100\n",
        "#diff = si1 - si2\n",
        "#dif = p*r1*t1/100  - p*r2*t2/100\n",
        "t1 = t1/12\n",
        "t2 = t2/12\n",
        "\n",
        "p = (dif * 100) / (r1*t1 - r2*t2)\n",
        "print(p)\n",
        "\n"
      ],
      "metadata": {
        "id": "OhwoDm7uC1Vc",
        "colab": {
          "base_uri": "https://localhost:8080/"
        },
        "outputId": "48ab3b38-36f1-4e71-d309-fd086f89d0ad"
      },
      "execution_count": 4,
      "outputs": [
        {
          "output_type": "stream",
          "name": "stdout",
          "text": [
            "R1 = 32\n",
            "T1 = 56\n",
            "R2 = 76\n",
            "T2 = 87\n",
            "Differenceb between interests 49\n",
            "-12.199170124481329\n"
          ]
        }
      ]
    },
    {
      "cell_type": "code",
      "source": [
        "year = int(input('Enter the year : '))\n",
        "\n",
        "if (year % 4 == 0) :\n",
        "  print('It is a leap year')\n",
        "else :\n",
        "  print('It is not a leap year')"
      ],
      "metadata": {
        "colab": {
          "base_uri": "https://localhost:8080/"
        },
        "id": "afVngf8bBIIK",
        "outputId": "4213956e-f1a3-4cb8-f6d8-71e691e82ef0"
      },
      "execution_count": 5,
      "outputs": [
        {
          "output_type": "stream",
          "name": "stdout",
          "text": [
            "Enter the year : 2003\n",
            "It is not a leap year\n"
          ]
        }
      ]
    }
  ]
}